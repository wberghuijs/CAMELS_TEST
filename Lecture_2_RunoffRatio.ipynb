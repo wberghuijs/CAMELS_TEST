{
 "cells": [
  {
   "cell_type": "markdown",
   "id": "84ea6c67",
   "metadata": {},
   "source": [
    "## Catchment Hydrology, MSc course\n",
    "### Lecture 2: The runoff ratio of US catchments\n",
    "#### Wouter R. Berghuijs (w.r.berghuijs@vu.nl)\n",
    "\n",
    "In this Jupyter notebook you will work with a large hydrogical dataset called CAMELS (Newman et al. 2015). The dataset contains information for  671 small- to medium- sized catchments across the contiguous United States (median basin size of 336 km$^2$) that span a  wide range of hydroclimatic conditions.  Daily streamflow data was compiled from the United States Geological Survey National Water Information System. The catchments are minimally impacted by human activities. The catchments have 20 years of daily streamflow data (expressed in mm/d). From these data the runoff ratio (Q/P) is calculated. \n",
    "\n",
    "The CAMELS dataset also contains information about the climate and landscape of these catchments. The catchment propreties that are available span several classes: topography, climate, land cover, soil, and geology (see Addor et al., 2017). With this notebook you can check which climate and landscape characteristics control between-catchment differences in runoff ratios. For a detailed description of these variables check Addor et al. (2017).\n",
    "\n",
    "Your task is to explore which climate or landscape factors seem to strongly relate to the runoff ratio (and which ones don't). Your exploration provides the basis for the discussion on the Budyko framework in lecture 2."
   ]
  },
  {
   "cell_type": "code",
   "execution_count": 1,
   "id": "258bc8dc",
   "metadata": {},
   "outputs": [
    {
     "name": "stderr",
     "output_type": "stream",
     "text": [
      "/Users/wbs211/opt/anaconda3/lib/python3.9/site-packages/geopandas/_compat.py:111: UserWarning: The Shapely GEOS version (3.11.1-CAPI-1.17.1) is incompatible with the GEOS version PyGEOS was compiled with (3.10.1-CAPI-1.16.0). Conversions between both will be slow.\n",
      "  warnings.warn(\n"
     ]
    }
   ],
   "source": [
    "# Import relevant packages and data\n",
    "\n",
    "#make students do: conda env create -f frontiers_in.yml\n",
    "# and activate conda env create -f environment.yml \n",
    "\n",
    "# Packages\n",
    "import pandas as pd\n",
    "import matplotlib.pyplot as plt\n",
    "import numpy as np\n",
    "from scipy import stats\n",
    "import seaborn as sns\n",
    "import geopandas\n",
    "import ipywidgets as widgets\n",
    "%matplotlib inline\n",
    "\n",
    "# CAMELS data\n",
    "hydro = pd.read_csv('data/camels_hydro.txt', sep=\";\", header=0)\n",
    "geo = pd.read_csv('data/camels_geol.txt', sep=\";\", header=0)\n",
    "clim = pd.read_csv('data/camels_clim.txt', sep=\";\", header=0)\n",
    "soil = pd.read_csv('data/camels_soil.txt', sep=\";\", header=0)\n",
    "veg = pd.read_csv('data/camels_vege.txt', sep=\";\", header=0)\n",
    "topo = pd.read_csv('data/camels_topo.txt', sep=\";\", header=0)\n",
    "name =  pd.read_csv('data/camels_name.txt', sep=\";\", header=0)\n",
    "frames = [hydro,soil, topo, clim, veg]\n",
    "\n",
    "merged = pd.concat([hydro.runoff_ratio,soil, topo, clim, veg], axis=1)\n",
    "\n",
    "hydro.reset_index(drop=True, inplace=True)\n",
    "soil.reset_index(drop=True, inplace=True)\n",
    "topo.reset_index(drop=True, inplace=True)\n",
    "clim.reset_index(drop=True, inplace=True)\n",
    "veg.reset_index(drop=True, inplace=True)\n",
    "\n",
    "del merged['gauge_id']\n",
    "\n",
    "# load shapefile USA\n",
    "states = geopandas.read_file('shapefiles/usa-states-census-2014.shp')\n",
    "\n",
    "plt.rcParams[\"figure.figsize\"] = (12, 7)"
   ]
  },
  {
   "cell_type": "code",
   "execution_count": 2,
   "id": "0edd3bca",
   "metadata": {},
   "outputs": [
    {
     "data": {
      "application/vnd.jupyter.widget-view+json": {
       "model_id": "aabbadfba68d4ae2bb766fc9a2904e4b",
       "version_major": 2,
       "version_minor": 0
      },
      "text/plain": [
       "interactive(children=(Dropdown(description='variable', options=('runoff_ratio', 'soil_depth_pelletier', 'soil_…"
      ]
     },
     "metadata": {},
     "output_type": "display_data"
    },
    {
     "data": {
      "text/plain": [
       "<function __main__.run_histogram(variable, bin_count)>"
      ]
     },
     "execution_count": 2,
     "metadata": {},
     "output_type": "execute_result"
    }
   ],
   "source": [
    "## A histogram that allows you to pick which variable you want to display and the number of bins\n",
    "\n",
    "def run_histogram(variable,bin_count):\n",
    "    \n",
    "    ## Python example\n",
    "    X = merged[variable]\n",
    "    fig = plt.figure(figsize =(5, 3))\n",
    "     # Creating axes instance\n",
    "    ax = fig.add_axes([0, 0, 1, 1])\n",
    "    # Creating plot\n",
    "    plt.hist(X, bins=bin_count, alpha=0.5)\n",
    "    # adding labels\n",
    "    ax.set_xlabel(variable)\n",
    "    ax.set_ylabel('Count')\n",
    "    print(X.describe())\n",
    "    plt.show()\n",
    "    \n",
    "widgets.interact(run_histogram,variable = merged, bin_count=(1,50,1))"
   ]
  },
  {
   "cell_type": "markdown",
   "id": "8e82e1a5",
   "metadata": {},
   "source": [
    "**Q1.** What is a typical runoff ratio across these catchments? \n",
    "\n",
    "**Q2.** Why do some catchments have runoff ratio's that exceed 1?\n",
    "\n",
    "We now show a plot of how different variables correlate with another. This allows you to visually test which factors appear to be strongly related to the runoff ratio. You can pick which variable you display on the x-axis, the y-axis, and the colorscale. In addition, the code also produces two correlation coefficients of x and y (a *Spearman rank correlation coefficient*, and a *Pearson correlation coefficient*) and the associated *p-value*.  \n",
    "\n",
    "**Q3.** What is the differene between a *Spearman rank correlation coefficient*, and a *Pearson correlation coefficient*)? (not in textbook, but the internet or your old statistics class should tell you)\n",
    "\n",
    "**Q4.** If you want to quantify the strength of a correlation, do use a correlation coefficient or a p-value?\n",
    "\n",
    "**Q5.** If you want to quantify the significance of a correlation, do use a correlation coefficient or a p-value?"
   ]
  },
  {
   "cell_type": "code",
   "execution_count": 3,
   "id": "7c8d8180",
   "metadata": {},
   "outputs": [
    {
     "data": {
      "application/vnd.jupyter.widget-view+json": {
       "model_id": "67733de3d5da4539939f5c8afba6bbc4",
       "version_major": 2,
       "version_minor": 0
      },
      "text/plain": [
       "interactive(children=(Dropdown(description='variable_x', options=('runoff_ratio', 'soil_depth_pelletier', 'soi…"
      ]
     },
     "metadata": {},
     "output_type": "display_data"
    },
    {
     "data": {
      "text/plain": [
       "<function __main__.run_scatter(variable_x, variable_y, variable_z, log_x_on, log_y_on, polyfit)>"
      ]
     },
     "execution_count": 3,
     "metadata": {},
     "output_type": "execute_result"
    }
   ],
   "source": [
    "## Scatterplots to check correlation between variables\n",
    "\n",
    "def run_scatter(variable_x,variable_y,variable_z,log_x_on,log_y_on,polyfit):\n",
    "\n",
    "    ## Python example\n",
    "    X = merged[variable_x]\n",
    "    Y = merged[variable_y]\n",
    "    Z = merged[variable_z]\n",
    "\n",
    "    fig = plt.figure(figsize =(5, 3))\n",
    "    \n",
    "    # Creating axes instance\n",
    "    cm=plt.get_cmap('jet') # picks color based on these options: \n",
    "    #https://matplotlib.org/stable/tutorials/colors/colormaps.html \n",
    "    \n",
    "    ax = fig.add_axes([0, 0, 1, 1])\n",
    "    \n",
    "    print(min(Z))\n",
    "    # Creating plot\n",
    "    sc = plt.scatter(X, Y,c=Z,  vmin=min(Z), vmax=max(Z),s=10, cmap=cm)\n",
    "    \n",
    "    # adding labels\n",
    "    ax.set_xlabel(variable_x)\n",
    "    ax.set_ylabel(variable_y)\n",
    "    cbar = plt.colorbar(sc)\n",
    "    cbar.set_label(variable_z, rotation=270)\n",
    "\n",
    "    new_X = X[np.logical_not(np.isnan(X*Y))]\n",
    "    new_Y = Y[np.logical_not(np.isnan(X*Y))]\n",
    "\n",
    "    #show plot\n",
    "    linear_model=np.polyfit(new_X,new_Y,polyfit)\n",
    "    linear_model_fn=np.poly1d(linear_model)\n",
    "    x_s=np.arange(min(X),max(X),(max(X)-min(X))*0.01)\n",
    "    plt.plot(x_s,linear_model_fn(x_s),color=\"green\")\n",
    "    print(linear_model_fn)\n",
    "    if log_x_on ==\"Yes\": \n",
    "        plt.xscale(\"log\")\n",
    "        \n",
    "    if log_y_on ==\"Yes\": \n",
    "        plt.yscale(\"log\")\n",
    "        \n",
    "    plt.show()\n",
    "    \n",
    "    print('spearman', stats.spearmanr(new_X,new_Y))\n",
    "    print('pearson', stats.pearsonr(new_X,new_Y))\n",
    "    \n",
    "widgets.interact(run_scatter,variable_x = merged,\n",
    "                             variable_y = merged,\n",
    "                             variable_z = merged,\n",
    "                             log_x_on = [\"No\",\"Yes\"],\n",
    "                             log_y_on = [\"No\",\"Yes\"],\n",
    "                             polyfit = [1, 2, 3, 4, 5, 6, 7, 8])"
   ]
  },
  {
   "cell_type": "markdown",
   "id": "45d46ff8",
   "metadata": {},
   "source": [
    "**Q6.** Which catchment characteristics seem to relate to the runoff ratio, and why do they correlate? You can use the tools below to further investiage this. Below you can further investigate the dataset by plotting variables on a map. Or by checking the correlation how each catchment property (including the runoff ratio) correlates with all other catchment properties. "
   ]
  },
  {
   "cell_type": "code",
   "execution_count": 4,
   "id": "65a4b058",
   "metadata": {},
   "outputs": [
    {
     "data": {
      "application/vnd.jupyter.widget-view+json": {
       "model_id": "4c655148eee742618c3f7b3da4b2c0e7",
       "version_major": 2,
       "version_minor": 0
      },
      "text/plain": [
       "interactive(children=(Dropdown(description='variable', options=('runoff_ratio', 'soil_depth_pelletier', 'soil_…"
      ]
     },
     "metadata": {},
     "output_type": "display_data"
    },
    {
     "data": {
      "text/plain": [
       "<function __main__.map_maker(variable, min_fac, max_fac)>"
      ]
     },
     "execution_count": 4,
     "metadata": {},
     "output_type": "execute_result"
    }
   ],
   "source": [
    "# Make a map of a variable and adjust the upper and lower boundary of the colorscale\n",
    "\n",
    "def map_maker(variable,min_fac,max_fac):\n",
    "    plt.close()\n",
    "    \n",
    "    X = merged[variable]\n",
    "    states.boundary.plot(color='black')\n",
    "    cm=plt.get_cmap('jet') # choses color based on these options: https://matplotlib.org/stable/tutorials/colors/colormaps.html \n",
    "    sc = plt.scatter(topo.gauge_lon, topo.gauge_lat, c=X,  vmin=min(X)*min_fac, vmax=max(X)*max_fac, s=10, cmap=cm)\n",
    "    cbar = plt.colorbar(sc, shrink=0.5)\n",
    "    \n",
    "    cbar.set_label(variable, rotation=270)\n",
    "    plt.xlim(-127, -67)\n",
    "    plt.ylim(24, 50)\n",
    "    plt.show()\n",
    "\n",
    "widgets.interact(map_maker,variable = merged,\n",
    "                min_fac = (0,2,0.1), max_fac = (0,2,0.05))"
   ]
  },
  {
   "cell_type": "code",
   "execution_count": 5,
   "id": "18f5f814",
   "metadata": {},
   "outputs": [
    {
     "data": {
      "application/vnd.jupyter.widget-view+json": {
       "model_id": "a49ba646d38846cdab1a5329474ccd64",
       "version_major": 2,
       "version_minor": 0
      },
      "text/plain": [
       "interactive(children=(Dropdown(description='corr_type', options=('pearson', 'spearman'), value='pearson'), Out…"
      ]
     },
     "metadata": {},
     "output_type": "display_data"
    },
    {
     "data": {
      "text/plain": [
       "<function __main__.correlation_overview(corr_type)>"
      ]
     },
     "execution_count": 5,
     "metadata": {},
     "output_type": "execute_result"
    }
   ],
   "source": [
    "# As a reference, we make a correlation matrix of everything against everything. \n",
    "# You can manually pick which correlation coefficient is presented in the graph\n",
    "\n",
    "def correlation_overview(corr_type):\n",
    "    corrmat = merged.corr(method= corr_type, min_periods = 1, numeric_only=True)\n",
    "    f, ax = plt.subplots(figsize =(15, 13))\n",
    "    sns.heatmap(corrmat, ax = ax, cmap =\"BrBG\", linewidths = 0.1)\n",
    "\n",
    "widgets.interact(correlation_overview, corr_type = ['pearson', 'spearman'])"
   ]
  },
  {
   "cell_type": "markdown",
   "id": "5b0d23eb",
   "metadata": {},
   "source": [
    "## References\n",
    "Addor, N., Newman, A. J., Mizukami, N., & Clark, M. P. (2017). The CAMELS data set: catchment attributes and meteorology for large-sample studies. Hydrology and Earth System Sciences, 21(10), 5293-5313.\n",
    "\n",
    "Newman, A. J., Clark, M. P., Sampson, K., Wood, A., Hay, L. E., Bock, A., Viger, R. J., Blodgett, D., Brekke, L., Arnold, J. R., Hopson, T., and Duan, Q.: Development of a large-sample watershed-scale hydrometeorological data set for the contiguous USA: data set characteristics and assessment of regional variability in hydrologic model performance, Hydrol. Earth Syst. Sci., 19, 209–223, 2015."
   ]
  },
  {
   "cell_type": "code",
   "execution_count": null,
   "id": "7ab49dbd",
   "metadata": {},
   "outputs": [],
   "source": []
  }
 ],
 "metadata": {
  "kernelspec": {
   "display_name": "Python 3 (ipykernel)",
   "language": "python",
   "name": "python3"
  },
  "language_info": {
   "codemirror_mode": {
    "name": "ipython",
    "version": 3
   },
   "file_extension": ".py",
   "mimetype": "text/x-python",
   "name": "python",
   "nbconvert_exporter": "python",
   "pygments_lexer": "ipython3",
   "version": "3.9.7"
  },
  "varInspector": {
   "cols": {
    "lenName": 16,
    "lenType": 16,
    "lenVar": 40
   },
   "kernels_config": {
    "python": {
     "delete_cmd_postfix": "",
     "delete_cmd_prefix": "del ",
     "library": "var_list.py",
     "varRefreshCmd": "print(var_dic_list())"
    },
    "r": {
     "delete_cmd_postfix": ") ",
     "delete_cmd_prefix": "rm(",
     "library": "var_list.r",
     "varRefreshCmd": "cat(var_dic_list()) "
    }
   },
   "types_to_exclude": [
    "module",
    "function",
    "builtin_function_or_method",
    "instance",
    "_Feature"
   ],
   "window_display": false
  }
 },
 "nbformat": 4,
 "nbformat_minor": 5
}
